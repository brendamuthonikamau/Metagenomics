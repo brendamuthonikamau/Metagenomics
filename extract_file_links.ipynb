{
 "cells": [
  {
   "cell_type": "markdown",
   "id": "3b9d92f0-9320-4dd8-8ad3-14a0e332ca73",
   "metadata": {},
   "source": [
    "# Code to extract file links fromZenodo "
   ]
  },
  {
   "cell_type": "code",
   "execution_count": 62,
   "id": "33c730d1-4f49-48d9-bbda-51f8bcae5602",
   "metadata": {},
   "outputs": [],
   "source": [
    "# from bs4 import BeautifulSoup, SoupStrainer\n",
    "import requests\n",
    "\n",
    "url = \"https://zenodo.org/record/5502439#.YroCWnhBxNg\"\n",
    "page = requests.get(url)\n",
    "data = page.text \n",
    "soup = BeautifulSoup(data) \n",
    "links=[] \n",
    "for link in soup.find_all('a'): \n",
    "    link=link.get('href') \n",
    "    try: \n",
    "        if \"fastq?download=1\" in link: \n",
    "            link=url[0:18]+link # print(link) \n",
    "            links.append(link)\n",
    "    except:\n",
    "        pass\n",
    "with open('sequence.txt', 'w') as f:\n",
    "    for item in links:\n",
    "        f.write(\"%s\\n\" % item)"
   ]
  }
 ],
 "metadata": {
  "kernelspec": {
   "display_name": "Python 3 (ipykernel)",
   "language": "python",
   "name": "python3"
  },
  "language_info": {
   "codemirror_mode": {
    "name": "ipython",
    "version": 3
   },
   "file_extension": ".py",
   "mimetype": "text/x-python",
   "name": "python",
   "nbconvert_exporter": "python",
   "pygments_lexer": "ipython3",
   "version": "3.9.7"
  }
 },
 "nbformat": 4,
 "nbformat_minor": 5
}
